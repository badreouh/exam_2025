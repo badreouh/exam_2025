{
  "cells": [
    {
      "cell_type": "markdown",
      "source": [
        "# Problème n°2: PointNet"
      ],
      "metadata": {
        "id": "-1ciEeyNevrd"
      }
    },
    {
      "cell_type": "markdown",
      "source": [
        "Certains jeux de données impliquent des nuages de points dans un espace 3D. Penser par exemple à un ensemble de mesures lidar : chaque tir permet de renseigner les coordonnées d'un des points de l'objet ciblé.\n",
        "Une tâche intéressante consiste à classer chacun des points du nuage en fonction de l'objet auquel il appartient. Cette tâche est considérée comme une variante de la segmentation sémantique d'images.\n",
        "\n",
        "Ce problème introduit à une méthode directe de segmentation d'un nuage par deep learning. Elle est basée sur une architecture particulière appelée PointNet. \\\n",
        "Dans la première partie, on présente un jeu de données (synthétisé à la volée) impliquant des nuages de points.\n",
        "Dans la seconde partie, on explore la structure et les propriétés de PointNet. Dans la troisième, on l'entraîne et dans la dernière partie, on charge les poids d'une version améliorée de PointNet (PointNet++) pour comparaison.\n",
        "\n",
        "La cellule suivante permet les imports nécessaires:"
      ],
      "metadata": {
        "id": "rPIFraX86pZ5"
      }
    },
    {
      "cell_type": "code",
      "source": [
        "import torch\n",
        "import numpy as np\n",
        "import matplotlib.pyplot as plt\n",
        "from random import randint\n",
        "import matplotlib.pyplot as plt\n",
        "import os\n",
        "! pip install einops\n",
        "! git clone https://github.com/badreouh/exam_2025.git\n",
        "! cp exam_2025/utils/utils_probleme2.py .\n",
        "from utils_probleme2 import gen_pointcloud, plot_triplets"
      ],
      "metadata": {
        "id": "VMhc4--pzPdB"
      },
      "execution_count": null,
      "outputs": []
    },
    {
      "cell_type": "markdown",
      "source": [
        "## Partie I : un exemple de PointCLoud data"
      ],
      "metadata": {
        "id": "OXcPslsLOKEh"
      }
    },
    {
      "cell_type": "markdown",
      "source": [
        "Pour construire le jeu de données, on simule un terrain couvert de deux types de bâtiments : des immeubles de forme rectangulaire aux toits plats et des igloos (dômes). Pour créer les nuages, on échantillonne les surfaces vues du ciel (les murs des bâtiments rectangulaires ne sont pas échantillonnées), en favorisant les zones d'altitude non nulles.\n",
        "Le but est de distinguer les igloos du reste (sol et toits des bâtiments). Il s'agit donc d'une segmentation binaire."
      ],
      "metadata": {
        "id": "GDqmLGFROPJy"
      }
    },
    {
      "cell_type": "code",
      "source": [
        "batch_size = 6\n",
        "input_points, target_list, target_points  = gen_pointcloud(batch_size)\n",
        "\n",
        "\n",
        "for i in range(batch_size):\n",
        "  print(i)\n",
        "  # Représentation 3D des nuages de points et\n",
        "  # les paramètres elev et azim permettent de changer l'angle de vue\n",
        "  plot_triplets(input_points[i].transpose(0,1).cpu(),\n",
        "                elev=75, azim=0)\n",
        "\n",
        "  # Cibles : les points appartenant aux toitures d'igloos sont\n",
        "  # dans la classe 1, les autres, dans la classe 0.\n",
        "  plot_triplets(target_points[i].transpose(0,1).cpu(),\n",
        "                title='Cibles',\n",
        "                cbar_label='classe')\n",
        "\n",
        "  # Note: target_points contient non seulement les classes\n",
        "  # mais aussi les coordonnées x et y des points, pour\n",
        "  # faciliter leur visualisation"
      ],
      "metadata": {
        "id": "uBvv7mzq8SXZ"
      },
      "execution_count": null,
      "outputs": []
    },
    {
      "cell_type": "markdown",
      "source": [
        "**Q1** A quoi correspondent les différentes dimensions de *input_points* ?"
      ],
      "metadata": {
        "id": "Ec1hdpYKWqtY"
      }
    },
    {
      "cell_type": "markdown",
      "source": [
        "Réponse :\n",
        "\n",
        "Les différentes dimensions de input_points correspondent aux éléments suivants :\n",
        "\n",
        "Dimension 0 : batch_size (taille du lot)\n",
        "\n",
        "Description : Cette dimension représente le nombre d'exemples (nuages de points) traités simultanément dans une itération. Dans votre cas, batch_size = 6, ce qui signifie que 6 nuages de points sont traités en parallèle.\n",
        "Dimension 1 : caractéristiques (features)\n",
        "\n",
        "Description : Cette dimension correspond aux différentes caractéristiques ou attributs de chaque point dans le nuage. Généralement, pour des nuages de points en 3D, cette dimension est de taille 3, représentant les coordonnées spatiales :\n",
        "0 : Coordonnée X\n",
        "1 : Coordonnée Y\n",
        "2 : Coordonnée Z\n",
        "Cependant, si des attributs supplémentaires sont inclus (comme des couleurs, des intensités, etc.), cette dimension peut être étendue en conséquence.\n",
        "Dimension 2 : nombre de points\n",
        "\n",
        "Description : Cette dimension indique le nombre total de points dans chaque nuage de points. Par exemple, si chaque nuage contient 1024 points, cette dimension sera de taille 1024.\n",
        "Résumé des dimensions de input_points :\n",
        "\n",
        "input_points a une forme généralement de (batch_size, num_features, num_points).\n",
        "batch_size : Nombre de nuages de points dans le lot (ex. 6).\n",
        "num_features : Nombre de caractéristiques par point (ex. 3 pour X, Y, Z).\n",
        "num_points : Nombre total de points dans chaque nuage de points.\n",
        "Illustration avec un exemple :\n",
        "\n",
        "Supposons que input_points a la forme (6, 3, 1024) :\n",
        "\n",
        "6 : Il y a 6 nuages de points dans le lot.\n",
        "3 : Chaque point a 3 caractéristiques (X, Y, Z).\n",
        "1024 : Chaque nuage contient 1024 points.\n",
        "Cette structure permet au modèle de traiter efficacement les données de nuages de points en exploitant à la fois les informations spatiales et la parallélisation offerte par le traitement par lots."
      ],
      "metadata": {
        "id": "5-8hHKAW-CjU"
      }
    },
    {
      "cell_type": "markdown",
      "source": [
        "**Q2** Les points d'un nuage sont-ils rangés dans un ordre particulier ?"
      ],
      "metadata": {
        "id": "O29XO_-BXW3a"
      }
    },
    {
      "cell_type": "markdown",
      "source": [
        "Réponse :\n",
        "\n",
        "Non, les points d’un nuage de points ne sont généralement pas rangés dans un ordre particulier. Un nuage de points est considéré comme un ensemble non ordonné de points dans l’espace. Cela signifie que l’ordre dans lequel les points sont listés ou stockés n’a pas d’importance intrinsèque pour la représentation géométrique ou pour les algorithmes qui traitent ces données.\n",
        "\n",
        "Explications supplémentaires :\n",
        "\n",
        "Invariance à l’ordre :\n",
        "\n",
        "Les réseaux de neurones conçus pour traiter les nuages de points, tels que PointNet ou PointNet++, sont spécialement architecturés pour être invariants à l’ordre des points. Cela signifie que la permutation des points d’entrée ne doit pas affecter la sortie du modèle. Cette propriété est essentielle car, dans la réalité, les points capturés par des capteurs (comme les LIDAR) n’ont pas d’ordre spécifique.\n",
        "Traitement des données :\n",
        "\n",
        "Lors de la préparation des données pour l’entraînement, les points peuvent être réorganisés aléatoirement ou selon certaines stratégies (comme le sous-échantillonnage) pour augmenter la robustesse du modèle. Cependant, cette réorganisation ne confère aucune signification particulière à l’ordre des points.\n",
        "Visualisation :\n",
        "\n",
        "Lors de la visualisation des nuages de points, l’ordre des points peut influencer le rendu graphique (par exemple, l’ordre de superposition des points), mais cela n’a aucune incidence sur les propriétés géométriques ou les caractéristiques apprises par le modèle.\n",
        "Stockage et efficacité :\n",
        "\n",
        "Du point de vue du stockage et de l’efficacité computationnelle, traiter les nuages de points comme des ensembles non ordonnés permet de simplifier les opérations et d’optimiser les performances des algorithmes d’apprentissage automatique."
      ],
      "metadata": {
        "id": "92AQ3Ebo-KJ1"
      }
    },
    {
      "cell_type": "markdown",
      "source": [
        "**Q3** (question ouverte). Si vous deviez traiter le problème avec un FCN ou un ViT (Visual Transformer), que feriez-vous ?"
      ],
      "metadata": {
        "id": "9VdTYIGMZkYZ"
      }
    },
    {
      "cell_type": "markdown",
      "source": [
        "1. Utilisation d'un FCN (Fully Convolutional Network)\n",
        "Les FCN sont traditionnellement conçus pour traiter des données structurées en grille, comme les images. Pour les appliquer aux nuages de points 3D, plusieurs étapes d'adaptation sont nécessaires :\n",
        "\n",
        "a. Conversion des Nuages de Points en Grille Voxelisée :\n",
        "Voxelisation : Transformer le nuage de points en une représentation voxelisée 3D où l'espace est divisé en petits cubes (voxels). Chaque voxel peut contenir des informations telles que la présence ou l'absence de points, ou des caractéristiques supplémentaires comme la densité.\n",
        "Avantages : Permet d'utiliser directement des architectures de CNN 3D existantes.\n",
        "Inconvénients : La voxelisation peut entraîner une perte de précision et une augmentation significative de la mémoire requise, surtout pour des résolutions élevées.\n",
        "b. Projection Multi-Vues :\n",
        "Approche Multi-Vues : Projeter le nuage de points sous différents angles (par exemple, vues frontale, latérale et supérieure) pour créer des images 2D.\n",
        "Traitement avec FCN 2D : Appliquer un FCN standard sur chaque vue 2D pour effectuer la segmentation, puis fusionner les résultats des différentes vues.\n",
        "Avantages : Réduit la complexité par rapport à la voxelisation 3D et permet d'exploiter des architectures CNN bien établies.\n",
        "Inconvénients : Peut introduire des artefacts de projection et ne capture pas pleinement la structure 3D originale.\n",
        "c. Utilisation de Convolutions Spécifiques aux Points :\n",
        "Adaptation des Convolutions : Développer ou utiliser des couches de convolution adaptées aux données non structurées des nuages de points, inspirées par des architectures comme PointCNN ou SparseConvNet.\n",
        "Intégration dans un FCN : Incorporer ces couches spécialisées dans une architecture FCN pour maintenir la capacité de segmentation tout en traitant efficacement les données 3D.\n",
        "Avantages : Meilleure préservation des informations géométriques spécifiques aux nuages de points.\n",
        "Inconvénients : Complexité accrue et nécessité de concevoir des couches personnalisées.\n",
        "2. Utilisation d'un ViT (Visual Transformer)\n",
        "Les Transformers, et plus particulièrement les ViT, ont montré des performances remarquables dans divers domaines de la vision par ordinateur. Cependant, leur application directe aux nuages de points 3D nécessite des adaptations spécifiques :\n",
        "\n",
        "a. Projection en Images ou Utilisation de Vues Multi-Scales :\n",
        "Projection Multi-Vues : Comme pour les FCN, projeter le nuage de points en plusieurs vues 2D et traiter chaque vue avec un ViT.\n",
        "Intégration des Informations Multi-Vues : Utiliser des mécanismes d'attention pour fusionner les informations provenant de différentes projections, améliorant ainsi la compréhension globale du nuage de points.\n",
        "Avantages : Tirer parti des capacités d'attention globale des Transformers pour capturer des relations complexes entre différentes parties du nuage.\n",
        "Inconvénients : Les mêmes limitations que pour les FCN en termes de perte de précision et de complexité de fusion des vues.\n",
        "b. Traitement Direct des Points avec des Transformers Adaptés :\n",
        "Point Transformer : Utiliser des architectures de Transformers spécifiquement conçues pour les nuages de points, telles que le Point Transformer, qui intègrent des mécanismes d'attention localisés et globalisés adaptés aux données non ordonnées.\n",
        "Encodage des Caractéristiques : Incorporer des encodages positionnels ou des descripteurs géométriques pour permettre au Transformer de capturer les relations spatiales entre les points.\n",
        "Avantages : Exploitation directe des capacités des Transformers à modéliser des dépendances complexes sans nécessiter de conversion en grilles.\n",
        "Inconvénients : Complexité computationnelle élevée et besoin de grandes quantités de données pour un entraînement efficace.\n",
        "c. Intégration avec des Techniques Hybrides :\n",
        "Combinaison avec des Réseaux de Neurones Convolutifs : Utiliser des CNN pour extraire des caractéristiques locales avant de les passer à un Transformer pour modéliser les relations globales.\n",
        "Avantages : Combiner les forces des CNN (extraction de caractéristiques locales efficaces) avec celles des Transformers (modélisation des dépendances globales).\n",
        "Inconvénients : Augmentation de la complexité du modèle et des exigences en matière de calcul.\n",
        "Considérations Générales :\n",
        "Invariance à l'Ordre des Points : Tant pour les FCN que pour les ViT, il est crucial de s'assurer que la représentation utilisée respecte l'invariance à l'ordre inhérente aux nuages de points.\n",
        "\n",
        "Efficacité Computationnelle : Les Transformers, en particulier, peuvent être gourmands en ressources. Des techniques telles que la réduction de la dimensionnalité ou l'utilisation de mécanismes d'attention plus efficaces peuvent être nécessaires.\n",
        "\n",
        "Qualité des Représentations : La manière dont les nuages de points sont représentés (voxelisation, projections, encodages spéciaux) a un impact significatif sur les performances des modèles."
      ],
      "metadata": {
        "id": "xrCQ1Ynt-Vd0"
      }
    },
    {
      "cell_type": "markdown",
      "source": [
        "## Partie II : le modèle PointNet"
      ],
      "metadata": {
        "id": "Oi-tMb6eVseg"
      }
    },
    {
      "cell_type": "markdown",
      "source": [
        "Dans cette partie, on s'intéresse à la propriété principale d'un réseau PointNet : l'utilisation d'opérations invariantes par rapport à l'ordre dans lequel les points sont présentés au réseau."
      ],
      "metadata": {
        "id": "ymRoRLYE1_AN"
      }
    },
    {
      "cell_type": "code",
      "source": [
        "from utils_probleme2 import PointNetSegHead\n",
        "pointnet = PointNetSegHead(num_points=800, num_global_feats=1024, m=2).cuda()\n",
        "\n",
        "input_points, target_list, _ = gen_pointcloud(batch_size)\n",
        "input_points = input_points.cuda()\n",
        "output, _, _ = pointnet(input_points)"
      ],
      "metadata": {
        "id": "S04tXJXHQWJ4"
      },
      "execution_count": null,
      "outputs": []
    },
    {
      "cell_type": "markdown",
      "source": [
        "**Q1** La sortie du modèle PointNet correspond au premier tenseur du *tuple* fourni la fonction *forward* de *pointnet*. A quoi correspondent les différentes dimensions de *output* ? Quel est l'effet d'une permutation des points contenus dans *inputs_points* sur la sortie ? Répondre :\n",
        "\n",
        "- en vous référant à l'article [l'article](https://arxiv.org/abs/1612.00593) qui introduit ce réseau (citer dans le texte).\n",
        "- à partir de tests à effectuer dans la cellule de code suivante (utiliser torch.randperm pour générer des permutations sur les entrées)"
      ],
      "metadata": {
        "id": "JzuMy_0l2Kbr"
      }
    },
    {
      "cell_type": "code",
      "source": [],
      "metadata": {
        "id": "99d6FryC7Bty"
      },
      "execution_count": null,
      "outputs": []
    },
    {
      "cell_type": "markdown",
      "source": [
        "**Q2** L'architecture de *pointnet* est décrite dans la Figure 2 de l'article (voir ci-dessous) évoqué à la question précédente. En dehors des opérations notées \"input transform\" et \"feature transform\", dont la compréhension est plus délicate, quelles sont les différentes opérations conduisant à une segmentation ? Que signifie le terme \"shared\" et expliquer en quoi ces opérations sont invariantes par rapport à l'ordre de présentation des points."
      ],
      "metadata": {
        "id": "9a3Ag6gf7XWX"
      }
    },
    {
      "cell_type": "markdown",
      "source": [
        "<img src= https://miro.medium.com/v2/resize:fit:1100/format:webp/1*lFnrIqmV_47iRvQcY3dB7Q.png >"
      ],
      "metadata": {
        "id": "Rhf7Jzr9yJwb"
      }
    },
    {
      "cell_type": "markdown",
      "source": [
        "## Partie III"
      ],
      "metadata": {
        "id": "6ivNzt2E86eJ"
      }
    },
    {
      "cell_type": "markdown",
      "source": [
        "Dans cette partie, on se propose d'entraîner un PointNet. Pour ce faire, on utilisera une fonction de coût spécifique (voir cellule ci-dessous).\n",
        "\n",
        "**Consignes :**\n",
        "\n",
        "1) Entraîner un PointNet sur quelques centaines d'époques.\n",
        "\n",
        "2) Afficher à chaque époque la justesse des prédictions\n",
        "\n",
        "3) Charger les poids d'un réseau entraîné sur 500 époques, stockés dans le fichier **pointnet_500_ep.pth** du répertoire https://huggingface.co/nanopiero/pointnet_igloos.\n",
        "\n",
        "Visualiser les sorties de ce modèle-là en complétant le la dernière cellule de code du calepin.\n"
      ],
      "metadata": {
        "id": "Hah5_qJ78-6b"
      }
    },
    {
      "cell_type": "code",
      "source": [
        "optimizer = torch.optim.Adam(pointnet.parameters(),\n",
        "                             lr=0.0001, betas=(0.9, 0.999))\n",
        "\n",
        "# manually set alpha weights\n",
        "alpha = np.array([0.2, 0.8])\n",
        "gamma = 1\n",
        "loss_fn = PointNetSegLoss(alpha=alpha, gamma=gamma, dice=True).cuda()\n",
        "\n",
        "# exemple d'utilisation de PointNetSegLoss:\n",
        "# La transposition permet de repasser la dimension relative\n",
        "# aux probabilités en dernier, comme avec torch.nn.CrossEntropyLoss\n",
        "proba_pred_list = outputs.transpose(1,2)\n",
        "loss_fn(proba_pred_list, target_list)"
      ],
      "metadata": {
        "id": "VwA_vclx0CWJ"
      },
      "execution_count": null,
      "outputs": []
    },
    {
      "cell_type": "code",
      "source": [
        "batch_size = 64\n",
        "n_epochs = 200\n",
        "n_batch_per_epoch = 10\n",
        "\n",
        "\n",
        "for epoch in range(1, n_epochs):\n",
        "  print('epoch : ', epoch)\n",
        "  for batch in range(1,n_batch_per_epoch):\n",
        "    ..."
      ],
      "metadata": {
        "id": "CNW_PJ_aAkBQ"
      },
      "execution_count": null,
      "outputs": []
    },
    {
      "cell_type": "code",
      "source": [
        "input_points, target_list , target_points = gen_pointcloud(6)\n",
        "\n",
        "# Il faut construire les prédictions.\n",
        "proba_pred_list, _, _ = pointnet2.cuda()(input_points.to(device))\n",
        "pred_list = proba_pred_list.transpose(1,2).max(1)[1].cpu()\n",
        "\n",
        "# Accuracy:\n",
        "...\n",
        "# Tracé\n",
        "\n",
        "for i in range(6):\n",
        "  print(i)\n",
        "  plot_triplets(input_points[i].transpose(0,1), elev=75, azim=0)\n",
        "  plot_triplets(target_points[i].transpose(0,1),\n",
        "                title='Cibles',\n",
        "                cbar_label='classe')\n",
        "  plot_triplets(...,\n",
        "                title='Predictions',\n",
        "                cbar_label='classe')\n"
      ],
      "metadata": {
        "id": "OjFZ3ZNS-riv"
      },
      "execution_count": null,
      "outputs": []
    }
  ],
  "metadata": {
    "colab": {
      "provenance": []
    },
    "gpuClass": "standard",
    "kernelspec": {
      "display_name": "Python 3",
      "name": "python3"
    },
    "accelerator": "GPU"
  },
  "nbformat": 4,
  "nbformat_minor": 0
}